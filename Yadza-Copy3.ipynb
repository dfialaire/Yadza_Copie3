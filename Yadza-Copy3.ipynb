{
 "cells": [
  {
   "cell_type": "code",
   "execution_count": 1,
   "id": "36b7e730",
   "metadata": {},
   "outputs": [],
   "source": [
    "#########\n",
    "from ipywidgets import *\n",
    "import io\n",
    "import cv2\n",
    "import PIL.Image\n",
    "from scipy.ndimage import filters\n",
    "import numpy as np\n",
    "##########\n",
    "from IPython.display import display, clear_output\n",
    "from ipywebrtc import CameraStream, ImageRecorder\n"
   ]
  },
  {
   "cell_type": "code",
   "execution_count": 2,
   "id": "91b5388e",
   "metadata": {},
   "outputs": [
    {
     "data": {
      "application/vnd.jupyter.widget-view+json": {
       "model_id": "f9c9990b5e3f4ff8913c7ab360675508",
       "version_major": 2,
       "version_minor": 0
      },
      "text/plain": [
       "Output(layout=Layout(border='1px solid black'))"
      ]
     },
     "metadata": {},
     "output_type": "display_data"
    }
   ],
   "source": [
    "def Lancer(dedans):\n",
    "    with output:\n",
    "        clear_output()\n",
    "        cou=Label(\"coucou\")\n",
    "        btn_stop = Button(description=\"Stop ?\",tooltip='Cette capture est Ok ?',button_style='danger')\n",
    "        btn_stop.on_click(reprendre)\n",
    "        dehors=VBox([cou,btn_stop])\n",
    "        display(dehors)\n",
    "def reprendre(dehors):\n",
    "    cou.close()\n",
    "    dehors.close()\n",
    "    with output:\n",
    "        clear_output()\n",
    "        bye=Label(\"au revoir\")\n",
    "        btn_reprendre = Button(description=\"Reprendre ?\",tooltip='Truc ?',button_style='info')\n",
    "        btn_reprendre.on_click(Lancer)\n",
    "        dedans=VBox([bye,btn_reprendre])\n",
    "        display(dedans)\n",
    "btn_stop = Button(description=\"Stop ?\",tooltip='Cette capture est Ok ?',button_style='danger')\n",
    "btn_stop.on_click(reprendre)\n",
    "cou=Label(\"coucou\")\n",
    "dehors=VBox([cou,btn_stop])\n",
    "\n",
    "btn_reprendre = Button(description=\"Reprendre ?\",tooltip='Truc ?',button_style='info')\n",
    "bye=Label(\"au revoir\")\n",
    "btn_reprendre.on_click(Lancer)\n",
    "dedans=VBox([bye,btn_reprendre])\n",
    "\n",
    "display(dehors)\n",
    "output = Output()\n",
    "display(output)"
   ]
  },
  {
   "cell_type": "code",
   "execution_count": null,
   "id": "4ab72bb9",
   "metadata": {},
   "outputs": [],
   "source": []
  }
 ],
 "metadata": {
  "kernelspec": {
   "display_name": "Python 3",
   "language": "python",
   "name": "python3"
  },
  "language_info": {
   "codemirror_mode": {
    "name": "ipython",
    "version": 3
   },
   "file_extension": ".py",
   "mimetype": "text/x-python",
   "name": "python",
   "nbconvert_exporter": "python",
   "pygments_lexer": "ipython3",
   "version": "3.7.10"
  }
 },
 "nbformat": 4,
 "nbformat_minor": 5
}
